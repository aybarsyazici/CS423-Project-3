{
 "cells": [
  {
   "cell_type": "code",
   "execution_count": 1,
   "metadata": {},
   "outputs": [],
   "source": [
    "import pandas as pd\n",
    "\n",
    "wiki_items = pd.read_csv('./data/wiki_lite/wiki_items.csv')\n",
    "statements = pd.read_csv('./data/wiki_lite/statements.csv')\n",
    "statements.reset_index(inplace=True, drop=True)\n",
    "properties = pd.read_csv('./data/wiki_lite/property.csv')\n",
    "\n",
    "# join statements(edge_property_id) with properties(property_id)\n",
    "statements = statements.merge(properties, left_on='edge_property_id', right_on='property_id')\n",
    "\n",
    "# join statements(source_item_id) on wiki_items(item_id)\n",
    "statements = statements.merge(wiki_items[['item_id', 'wikipedia_title']], left_on='source_item_id', right_on='item_id')\n",
    "# drop item_id column and rename wikipedia_title to source_item_title\n",
    "statements.drop('item_id', axis=1, inplace=True)\n",
    "statements.rename(columns={'wikipedia_title': 'source_item_title'}, inplace=True)\n",
    "# join statements(target_item_id) on wiki_items(item_id)\n",
    "statements = statements.merge(wiki_items[['item_id', 'wikipedia_title']], left_on='target_item_id', right_on='item_id')\n",
    "# drop item_id column and rename wikipedia_title to target_item_title\n",
    "statements.drop('item_id', axis=1, inplace=True)\n",
    "statements.rename(columns={'wikipedia_title': 'target_item_title'}, inplace=True)\n",
    "\n",
    "# From statements.csv drop duplicate rows that have the same source_item_id, edge_property_id, target_item_id\n",
    "statements.drop_duplicates(subset=['source_item_id', 'edge_property_id', 'target_item_id'], inplace=True)\n",
    "# group by statements on source_item_id then aggregate en_label and target_item_title in a list\n",
    "statements['information'] = statements['en_label'] + ' ' + statements['target_item_title']\n",
    "statements_grouped = statements.groupby('source_item_id').agg({'information': list, 'source_item_title': 'first'})\n",
    "statements_grouped['information'] = statements_grouped['information'].apply(lambda x: ' '.join(x))\n",
    "statements_grouped.reset_index(inplace=True)"
   ]
  },
  {
   "cell_type": "code",
   "execution_count": 2,
   "metadata": {},
   "outputs": [
    {
     "data": {
      "text/plain": [
       "0"
      ]
     },
     "execution_count": 2,
     "metadata": {},
     "output_type": "execute_result"
    }
   ],
   "source": [
    "aliases = pd.read_csv('./data/wiki_lite/item_aliases.csv') # 2 columns: item_id,en_alias\n",
    "aliases['en_alias'].fillna('', inplace=True)\n",
    "# group by item_id and aggregate en_alias in a list\n",
    "aliases_grouped = aliases.groupby('item_id').agg({'en_alias': list})\n",
    "aliases_grouped.reset_index(inplace=True)\n",
    "aliases_grouped['en_alias'] = aliases_grouped['en_alias'].apply(lambda x: ' '.join(x))\n",
    "\n",
    "aliases_grouped.en_alias.isna().sum()"
   ]
  },
  {
   "cell_type": "code",
   "execution_count": 3,
   "metadata": {},
   "outputs": [],
   "source": [
    "wiki_items['en_description'] = wiki_items['en_description'].fillna('')\n",
    "wiki_items['wikipedia_title'] = wiki_items['wikipedia_title'].fillna('')"
   ]
  },
  {
   "cell_type": "code",
   "execution_count": 4,
   "metadata": {},
   "outputs": [
    {
     "data": {
      "text/html": [
       "<div>\n",
       "<style scoped>\n",
       "    .dataframe tbody tr th:only-of-type {\n",
       "        vertical-align: middle;\n",
       "    }\n",
       "\n",
       "    .dataframe tbody tr th {\n",
       "        vertical-align: top;\n",
       "    }\n",
       "\n",
       "    .dataframe thead th {\n",
       "        text-align: right;\n",
       "    }\n",
       "</style>\n",
       "<table border=\"1\" class=\"dataframe\">\n",
       "  <thead>\n",
       "    <tr style=\"text-align: right;\">\n",
       "      <th></th>\n",
       "      <th>item_id</th>\n",
       "      <th>en_label</th>\n",
       "      <th>en_description</th>\n",
       "      <th>wikipedia_title</th>\n",
       "      <th>en_alias</th>\n",
       "    </tr>\n",
       "  </thead>\n",
       "  <tbody>\n",
       "    <tr>\n",
       "      <th>0</th>\n",
       "      <td>1</td>\n",
       "      <td>Universe</td>\n",
       "      <td>totality of space and all contents</td>\n",
       "      <td>Universe</td>\n",
       "      <td>Our Universe The Universe The Cosmos cosmos</td>\n",
       "    </tr>\n",
       "    <tr>\n",
       "      <th>1</th>\n",
       "      <td>2</td>\n",
       "      <td>Earth</td>\n",
       "      <td>third planet from the Sun in the Solar System</td>\n",
       "      <td>Earth</td>\n",
       "      <td>Blue Planet Terra Mater Terra Planet Earth Tel...</td>\n",
       "    </tr>\n",
       "    <tr>\n",
       "      <th>2</th>\n",
       "      <td>3</td>\n",
       "      <td>life</td>\n",
       "      <td>matter capable of extracting energy from the e...</td>\n",
       "      <td>Life</td>\n",
       "      <td>biota</td>\n",
       "    </tr>\n",
       "    <tr>\n",
       "      <th>3</th>\n",
       "      <td>4</td>\n",
       "      <td>death</td>\n",
       "      <td>permanent cessation of vital functions</td>\n",
       "      <td>Death</td>\n",
       "      <td>bereft of life perish oblivion mortis fallen m...</td>\n",
       "    </tr>\n",
       "    <tr>\n",
       "      <th>4</th>\n",
       "      <td>5</td>\n",
       "      <td>human</td>\n",
       "      <td>common name of Homo sapiens, unique extant spe...</td>\n",
       "      <td>Human</td>\n",
       "      <td>human being humankind people homosapiens person</td>\n",
       "    </tr>\n",
       "    <tr>\n",
       "      <th>...</th>\n",
       "      <td>...</td>\n",
       "      <td>...</td>\n",
       "      <td>...</td>\n",
       "      <td>...</td>\n",
       "      <td>...</td>\n",
       "    </tr>\n",
       "    <tr>\n",
       "      <th>5216231</th>\n",
       "      <td>77042017</td>\n",
       "      <td>HR 4523</td>\n",
       "      <td></td>\n",
       "      <td>HD 102365</td>\n",
       "      <td>NaN</td>\n",
       "    </tr>\n",
       "    <tr>\n",
       "      <th>5216232</th>\n",
       "      <td>77043280</td>\n",
       "      <td>Charlie Johnston</td>\n",
       "      <td></td>\n",
       "      <td>Charlie Johnstone</td>\n",
       "      <td>NaN</td>\n",
       "    </tr>\n",
       "    <tr>\n",
       "      <th>5216233</th>\n",
       "      <td>77231860</td>\n",
       "      <td>Aldo Rossi</td>\n",
       "      <td>musician</td>\n",
       "      <td>Aldo Rossi (musician)</td>\n",
       "      <td>NaN</td>\n",
       "    </tr>\n",
       "    <tr>\n",
       "      <th>5216234</th>\n",
       "      <td>77240068</td>\n",
       "      <td>Ebenezer Baptist Church</td>\n",
       "      <td>church in Atlanta, Georgia, USA</td>\n",
       "      <td>Ebenezer Baptist Church</td>\n",
       "      <td>NaN</td>\n",
       "    </tr>\n",
       "    <tr>\n",
       "      <th>5216235</th>\n",
       "      <td>77242291</td>\n",
       "      <td>New Court</td>\n",
       "      <td>group of buildings in City of London, UK</td>\n",
       "      <td>New Court</td>\n",
       "      <td>NaN</td>\n",
       "    </tr>\n",
       "  </tbody>\n",
       "</table>\n",
       "<p>5216236 rows × 5 columns</p>\n",
       "</div>"
      ],
      "text/plain": [
       "          item_id                 en_label  \\\n",
       "0               1                 Universe   \n",
       "1               2                    Earth   \n",
       "2               3                     life   \n",
       "3               4                    death   \n",
       "4               5                    human   \n",
       "...           ...                      ...   \n",
       "5216231  77042017                  HR 4523   \n",
       "5216232  77043280         Charlie Johnston   \n",
       "5216233  77231860               Aldo Rossi   \n",
       "5216234  77240068  Ebenezer Baptist Church   \n",
       "5216235  77242291                New Court   \n",
       "\n",
       "                                            en_description  \\\n",
       "0                       totality of space and all contents   \n",
       "1            third planet from the Sun in the Solar System   \n",
       "2        matter capable of extracting energy from the e...   \n",
       "3                   permanent cessation of vital functions   \n",
       "4        common name of Homo sapiens, unique extant spe...   \n",
       "...                                                    ...   \n",
       "5216231                                                      \n",
       "5216232                                                      \n",
       "5216233                                           musician   \n",
       "5216234                    church in Atlanta, Georgia, USA   \n",
       "5216235           group of buildings in City of London, UK   \n",
       "\n",
       "                 wikipedia_title  \\\n",
       "0                       Universe   \n",
       "1                          Earth   \n",
       "2                           Life   \n",
       "3                          Death   \n",
       "4                          Human   \n",
       "...                          ...   \n",
       "5216231                HD 102365   \n",
       "5216232        Charlie Johnstone   \n",
       "5216233    Aldo Rossi (musician)   \n",
       "5216234  Ebenezer Baptist Church   \n",
       "5216235                New Court   \n",
       "\n",
       "                                                  en_alias  \n",
       "0              Our Universe The Universe The Cosmos cosmos  \n",
       "1        Blue Planet Terra Mater Terra Planet Earth Tel...  \n",
       "2                                                    biota  \n",
       "3        bereft of life perish oblivion mortis fallen m...  \n",
       "4          human being humankind people homosapiens person  \n",
       "...                                                    ...  \n",
       "5216231                                                NaN  \n",
       "5216232                                                NaN  \n",
       "5216233                                                NaN  \n",
       "5216234                                                NaN  \n",
       "5216235                                                NaN  \n",
       "\n",
       "[5216236 rows x 5 columns]"
      ]
     },
     "execution_count": 4,
     "metadata": {},
     "output_type": "execute_result"
    }
   ],
   "source": [
    "# join wiki_items and aliases_grouped on item_id\n",
    "wiki_items = wiki_items.merge(aliases_grouped, on='item_id', how='left')\n",
    "\n",
    "wiki_items"
   ]
  },
  {
   "cell_type": "code",
   "execution_count": 5,
   "metadata": {},
   "outputs": [],
   "source": [
    "wiki_items['en_alias'] = wiki_items['en_alias'].fillna('')"
   ]
  },
  {
   "cell_type": "code",
   "execution_count": 6,
   "metadata": {},
   "outputs": [],
   "source": [
    "wiki_items['wikipedia_title'] = wiki_items['wikipedia_title'] + ' ' + wiki_items['en_alias']"
   ]
  },
  {
   "cell_type": "code",
   "execution_count": 7,
   "metadata": {},
   "outputs": [],
   "source": [
    "# only keep those wiki_items that are NOT in statements_grouped\n",
    "wiki_items = wiki_items[~wiki_items['item_id'].isin(statements_grouped['source_item_id'])]"
   ]
  },
  {
   "cell_type": "code",
   "execution_count": 8,
   "metadata": {},
   "outputs": [],
   "source": [
    "wiki_items.reset_index(inplace=True, drop=True)\n",
    "\n",
    "# create a dictionary mapping item_id to row index\n",
    "item_id_to_index = dict(zip(wiki_items['item_id'], wiki_items.index))"
   ]
  },
  {
   "cell_type": "code",
   "execution_count": 10,
   "metadata": {},
   "outputs": [],
   "source": [
    "import pickle\n",
    "with open('./data/wiki_lite/wiki_features_item_id_to_index.pickle', 'wb') as handle:\n",
    "    pickle.dump(item_id_to_index, handle, protocol=pickle.HIGHEST_PROTOCOL)"
   ]
  },
  {
   "cell_type": "code",
   "execution_count": 17,
   "metadata": {},
   "outputs": [],
   "source": [
    "description_list = wiki_items['en_description'].tolist()\n",
    "\n",
    "title_list = wiki_items['wikipedia_title'].tolist()\n",
    "\n",
    "assert len(description_list) == len(title_list)\n",
    "\n",
    "del aliases\n",
    "del aliases_grouped\n",
    "del statements\n",
    "del statements_grouped\n",
    "del properties\n",
    "\n",
    "\n",
    "from sentence_transformers import SentenceTransformer\n",
    "\n",
    "model = SentenceTransformer('all-MiniLM-L6-v2', device='cuda')"
   ]
  },
  {
   "cell_type": "code",
   "execution_count": 18,
   "metadata": {},
   "outputs": [],
   "source": [
    "del wiki_items"
   ]
  },
  {
   "cell_type": "code",
   "execution_count": 19,
   "metadata": {},
   "outputs": [
    {
     "data": {
      "application/vnd.jupyter.widget-view+json": {
       "model_id": "1734f1ba7d4143868f60d7df9c9dd66a",
       "version_major": 2,
       "version_minor": 0
      },
      "text/plain": [
       "Batches:   0%|          | 0/10343 [00:00<?, ?it/s]"
      ]
     },
     "metadata": {},
     "output_type": "display_data"
    }
   ],
   "source": [
    "title_embeddings = model.encode(title_list, show_progress_bar=True, convert_to_tensor=True)"
   ]
  },
  {
   "cell_type": "code",
   "execution_count": 21,
   "metadata": {},
   "outputs": [
    {
     "data": {
      "text/plain": [
       "(tensor([[-0.0756,  0.0253,  0.0096,  ...,  0.0604,  0.0012, -0.0978],\n",
       "         [-0.0170,  0.0599,  0.0380,  ...,  0.0317,  0.0148,  0.0543],\n",
       "         [-0.0678, -0.0499, -0.0075,  ...,  0.0457, -0.0852, -0.0856],\n",
       "         ...,\n",
       "         [ 0.0359,  0.0509, -0.0214,  ..., -0.0486, -0.0148,  0.0416],\n",
       "         [-0.0617,  0.0226,  0.0066,  ..., -0.0251,  0.0160,  0.0221],\n",
       "         [-0.0442,  0.0270, -0.0472,  ..., -0.0217,  0.0063, -0.0012]],\n",
       "        device='cuda:0'),\n",
       " torch.Size([330975, 384]))"
      ]
     },
     "execution_count": 21,
     "metadata": {},
     "output_type": "execute_result"
    }
   ],
   "source": [
    "title_embeddings, title_embeddings.shape"
   ]
  },
  {
   "cell_type": "code",
   "execution_count": 22,
   "metadata": {},
   "outputs": [
    {
     "data": {
      "application/vnd.jupyter.widget-view+json": {
       "model_id": "d5c7c280f7204808a9f5cc652cb6c60d",
       "version_major": 2,
       "version_minor": 0
      },
      "text/plain": [
       "Batches:   0%|          | 0/10343 [00:00<?, ?it/s]"
      ]
     },
     "metadata": {},
     "output_type": "display_data"
    }
   ],
   "source": [
    "description_embeddings = model.encode(description_list, show_progress_bar=True, convert_to_tensor=True)"
   ]
  },
  {
   "cell_type": "code",
   "execution_count": 23,
   "metadata": {},
   "outputs": [
    {
     "data": {
      "text/plain": [
       "(tensor([[-0.0411,  0.0417, -0.0184,  ..., -0.0524, -0.0478, -0.0581],\n",
       "         [ 0.0250,  0.0604, -0.0156,  ...,  0.0565, -0.0314,  0.0322],\n",
       "         [-0.0370,  0.0279, -0.0221,  ...,  0.0337, -0.0012, -0.0058],\n",
       "         ...,\n",
       "         [-0.1188,  0.0483, -0.0025,  ...,  0.1264,  0.0465, -0.0157],\n",
       "         [-0.0577, -0.0065, -0.0429,  ..., -0.0150,  0.0573, -0.0145],\n",
       "         [-0.0861,  0.0050,  0.0055,  ..., -0.0636,  0.0128,  0.0414]],\n",
       "        device='cuda:0'),\n",
       " torch.Size([330975, 384]))"
      ]
     },
     "execution_count": 23,
     "metadata": {},
     "output_type": "execute_result"
    }
   ],
   "source": [
    "description_embeddings, description_embeddings.shape"
   ]
  },
  {
   "cell_type": "code",
   "execution_count": 24,
   "metadata": {},
   "outputs": [
    {
     "data": {
      "text/plain": [
       "(tensor([[-0.0584,  0.0335, -0.0044,  ...,  0.0040, -0.0233, -0.0780],\n",
       "         [ 0.0040,  0.0601,  0.0112,  ...,  0.0441, -0.0083,  0.0432],\n",
       "         [-0.0524, -0.0110, -0.0148,  ...,  0.0397, -0.0432, -0.0457],\n",
       "         ...,\n",
       "         [-0.0415,  0.0496, -0.0120,  ...,  0.0389,  0.0159,  0.0130],\n",
       "         [-0.0597,  0.0081, -0.0182,  ..., -0.0201,  0.0366,  0.0038],\n",
       "         [-0.0652,  0.0160, -0.0208,  ..., -0.0426,  0.0095,  0.0201]],\n",
       "        device='cuda:0'),\n",
       " torch.Size([330975, 384]))"
      ]
     },
     "execution_count": 24,
     "metadata": {},
     "output_type": "execute_result"
    }
   ],
   "source": [
    "wiki_items_features = (title_embeddings + description_embeddings) / 2  # type: ignore\n",
    "\n",
    "wiki_items_features, wiki_items_features.shape"
   ]
  },
  {
   "cell_type": "code",
   "execution_count": 25,
   "metadata": {},
   "outputs": [],
   "source": [
    "import torch\n",
    "\n",
    "torch.save(wiki_items_features, './data/wiki_lite/wiki_items_features.pt')"
   ]
  },
  {
   "cell_type": "code",
   "execution_count": null,
   "metadata": {},
   "outputs": [],
   "source": []
  }
 ],
 "metadata": {
  "kernelspec": {
   "display_name": ".venv",
   "language": "python",
   "name": "python3"
  },
  "language_info": {
   "codemirror_mode": {
    "name": "ipython",
    "version": 3
   },
   "file_extension": ".py",
   "mimetype": "text/x-python",
   "name": "python",
   "nbconvert_exporter": "python",
   "pygments_lexer": "ipython3",
   "version": "3.9.13"
  }
 },
 "nbformat": 4,
 "nbformat_minor": 2
}
