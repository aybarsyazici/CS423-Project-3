{
 "cells": [
  {
   "cell_type": "code",
   "execution_count": 1,
   "metadata": {},
   "outputs": [],
   "source": [
    "import pandas as pd\n",
    "\n",
    "wiki_items = pd.read_csv('./data/wiki_lite/wiki_items.csv')\n",
    "statements = pd.read_csv('./data/wiki_lite/statements.csv')\n",
    "statements.reset_index(inplace=True, drop=True)\n",
    "properties = pd.read_csv('./data/wiki_lite/property.csv')\n",
    "wiki_items.reset_index(drop=True, inplace=True)"
   ]
  },
  {
   "cell_type": "code",
   "execution_count": 2,
   "metadata": {},
   "outputs": [],
   "source": [
    "# join statements(edge_property_id) with properties(property_id)\n",
    "statements = statements.merge(properties, left_on='edge_property_id', right_on='property_id')\n",
    "\n",
    "# join statements(source_item_id) on wiki_items(item_id)\n",
    "statements = statements.merge(wiki_items[['item_id', 'wikipedia_title']], left_on='source_item_id', right_on='item_id')\n",
    "# drop item_id column and rename wikipedia_title to source_item_title\n",
    "statements.drop('item_id', axis=1, inplace=True)\n",
    "statements.rename(columns={'wikipedia_title': 'source_item_title'}, inplace=True)\n",
    "# join statements(target_item_id) on wiki_items(item_id)\n",
    "statements = statements.merge(wiki_items[['item_id', 'wikipedia_title']], left_on='target_item_id', right_on='item_id')\n",
    "# drop item_id column and rename wikipedia_title to target_item_title\n",
    "statements.drop('item_id', axis=1, inplace=True)\n",
    "statements.rename(columns={'wikipedia_title': 'target_item_title'}, inplace=True)"
   ]
  },
  {
   "cell_type": "code",
   "execution_count": 3,
   "metadata": {},
   "outputs": [],
   "source": [
    "# From statements.csv drop duplicate rows that have the same source_item_id, edge_property_id, target_item_id\n",
    "statements.drop_duplicates(subset=['source_item_id', 'edge_property_id', 'target_item_id'], inplace=True)\n",
    "# group by statements on source_item_id then aggregate en_label and target_item_title in a list\n",
    "statements['information'] = statements['en_label'] + ' ' + statements['target_item_title']\n",
    "statements_grouped = statements.groupby('source_item_id').agg({'information': list, 'source_item_title': 'first'})\n",
    "statements_grouped['information'] = statements_grouped['information'].apply(lambda x: ' '.join(x))\n",
    "statements_grouped.reset_index(inplace=True)"
   ]
  },
  {
   "cell_type": "code",
   "execution_count": 4,
   "metadata": {},
   "outputs": [
    {
     "data": {
      "text/plain": [
       "0"
      ]
     },
     "execution_count": 4,
     "metadata": {},
     "output_type": "execute_result"
    }
   ],
   "source": [
    "statements_grouped['source_item_title'] = statements_grouped['source_item_title'].fillna('')\n",
    "\n",
    "statements_grouped.source_item_title.isna().sum()"
   ]
  },
  {
   "cell_type": "code",
   "execution_count": 5,
   "metadata": {},
   "outputs": [
    {
     "data": {
      "text/html": [
       "<div>\n",
       "<style scoped>\n",
       "    .dataframe tbody tr th:only-of-type {\n",
       "        vertical-align: middle;\n",
       "    }\n",
       "\n",
       "    .dataframe tbody tr th {\n",
       "        vertical-align: top;\n",
       "    }\n",
       "\n",
       "    .dataframe thead th {\n",
       "        text-align: right;\n",
       "    }\n",
       "</style>\n",
       "<table border=\"1\" class=\"dataframe\">\n",
       "  <thead>\n",
       "    <tr style=\"text-align: right;\">\n",
       "      <th></th>\n",
       "      <th>source_item_id</th>\n",
       "      <th>information</th>\n",
       "      <th>source_item_title</th>\n",
       "    </tr>\n",
       "  </thead>\n",
       "  <tbody>\n",
       "    <tr>\n",
       "      <th>0</th>\n",
       "      <td>1</td>\n",
       "      <td>child astronomical body Sloan Great Wall child...</td>\n",
       "      <td>Universe</td>\n",
       "    </tr>\n",
       "    <tr>\n",
       "      <th>1</th>\n",
       "      <td>2</td>\n",
       "      <td>creator Big Bang described by source Brockhaus...</td>\n",
       "      <td>Earth</td>\n",
       "    </tr>\n",
       "    <tr>\n",
       "      <th>2</th>\n",
       "      <td>3</td>\n",
       "      <td>described by source Brockhaus and Efron Encycl...</td>\n",
       "      <td>Life</td>\n",
       "    </tr>\n",
       "    <tr>\n",
       "      <th>3</th>\n",
       "      <td>4</td>\n",
       "      <td>described by source Brockhaus and Efron Encycl...</td>\n",
       "      <td>Death</td>\n",
       "    </tr>\n",
       "    <tr>\n",
       "      <th>4</th>\n",
       "      <td>5</td>\n",
       "      <td>described by source Brockhaus and Efron Encycl...</td>\n",
       "      <td>Human</td>\n",
       "    </tr>\n",
       "    <tr>\n",
       "      <th>...</th>\n",
       "      <td>...</td>\n",
       "      <td>...</td>\n",
       "      <td>...</td>\n",
       "    </tr>\n",
       "    <tr>\n",
       "      <th>4885256</th>\n",
       "      <td>77042017</td>\n",
       "      <td>instance of Binary star constellation Centaurus</td>\n",
       "      <td>HD 102365</td>\n",
       "    </tr>\n",
       "    <tr>\n",
       "      <th>4885257</th>\n",
       "      <td>77043280</td>\n",
       "      <td>instance of Human member of sports team Ranger...</td>\n",
       "      <td>Charlie Johnstone</td>\n",
       "    </tr>\n",
       "    <tr>\n",
       "      <th>4885258</th>\n",
       "      <td>77231860</td>\n",
       "      <td>instance of Human instrument Saxophone family ...</td>\n",
       "      <td>Aldo Rossi (musician)</td>\n",
       "    </tr>\n",
       "    <tr>\n",
       "      <th>4885259</th>\n",
       "      <td>77240068</td>\n",
       "      <td>country United States located in the administr...</td>\n",
       "      <td>Ebenezer Baptist Church</td>\n",
       "    </tr>\n",
       "    <tr>\n",
       "      <th>4885260</th>\n",
       "      <td>77242291</td>\n",
       "      <td>country United Kingdom located in the administ...</td>\n",
       "      <td>New Court</td>\n",
       "    </tr>\n",
       "  </tbody>\n",
       "</table>\n",
       "<p>4885261 rows × 3 columns</p>\n",
       "</div>"
      ],
      "text/plain": [
       "         source_item_id                                        information  \\\n",
       "0                     1  child astronomical body Sloan Great Wall child...   \n",
       "1                     2  creator Big Bang described by source Brockhaus...   \n",
       "2                     3  described by source Brockhaus and Efron Encycl...   \n",
       "3                     4  described by source Brockhaus and Efron Encycl...   \n",
       "4                     5  described by source Brockhaus and Efron Encycl...   \n",
       "...                 ...                                                ...   \n",
       "4885256        77042017    instance of Binary star constellation Centaurus   \n",
       "4885257        77043280  instance of Human member of sports team Ranger...   \n",
       "4885258        77231860  instance of Human instrument Saxophone family ...   \n",
       "4885259        77240068  country United States located in the administr...   \n",
       "4885260        77242291  country United Kingdom located in the administ...   \n",
       "\n",
       "               source_item_title  \n",
       "0                       Universe  \n",
       "1                          Earth  \n",
       "2                           Life  \n",
       "3                          Death  \n",
       "4                          Human  \n",
       "...                          ...  \n",
       "4885256                HD 102365  \n",
       "4885257        Charlie Johnstone  \n",
       "4885258    Aldo Rossi (musician)  \n",
       "4885259  Ebenezer Baptist Church  \n",
       "4885260                New Court  \n",
       "\n",
       "[4885261 rows x 3 columns]"
      ]
     },
     "execution_count": 5,
     "metadata": {},
     "output_type": "execute_result"
    }
   ],
   "source": [
    "statements_grouped"
   ]
  },
  {
   "cell_type": "code",
   "execution_count": 6,
   "metadata": {},
   "outputs": [
    {
     "data": {
      "text/plain": [
       "0"
      ]
     },
     "execution_count": 6,
     "metadata": {},
     "output_type": "execute_result"
    }
   ],
   "source": [
    "aliases = pd.read_csv('./data/wiki_lite/item_aliases.csv') # 2 columns: item_id,en_alias\n",
    "aliases['en_alias'].fillna('', inplace=True)\n",
    "# group by item_id and aggregate en_alias in a list\n",
    "aliases_grouped = aliases.groupby('item_id').agg({'en_alias': list})\n",
    "aliases_grouped.reset_index(inplace=True)\n",
    "aliases_grouped['en_alias'] = aliases_grouped['en_alias'].apply(lambda x: ' '.join(x))\n",
    "\n",
    "aliases_grouped.en_alias.isna().sum()"
   ]
  },
  {
   "cell_type": "code",
   "execution_count": 7,
   "metadata": {},
   "outputs": [],
   "source": [
    "\n",
    "# join aliases_grouped(item_id) on statements_grouped(source_item_id)\n",
    "statements_grouped = statements_grouped.merge(aliases_grouped, left_on='source_item_id', right_on='item_id', how='left')"
   ]
  },
  {
   "cell_type": "code",
   "execution_count": 8,
   "metadata": {},
   "outputs": [
    {
     "data": {
      "text/plain": [
       "0"
      ]
     },
     "metadata": {},
     "output_type": "display_data"
    },
    {
     "data": {
      "text/plain": [
       "0"
      ]
     },
     "metadata": {},
     "output_type": "display_data"
    },
    {
     "data": {
      "text/html": [
       "<div>\n",
       "<style scoped>\n",
       "    .dataframe tbody tr th:only-of-type {\n",
       "        vertical-align: middle;\n",
       "    }\n",
       "\n",
       "    .dataframe tbody tr th {\n",
       "        vertical-align: top;\n",
       "    }\n",
       "\n",
       "    .dataframe thead th {\n",
       "        text-align: right;\n",
       "    }\n",
       "</style>\n",
       "<table border=\"1\" class=\"dataframe\">\n",
       "  <thead>\n",
       "    <tr style=\"text-align: right;\">\n",
       "      <th></th>\n",
       "      <th>source_item_id</th>\n",
       "      <th>information</th>\n",
       "      <th>source_item_title</th>\n",
       "      <th>item_id</th>\n",
       "      <th>en_alias</th>\n",
       "    </tr>\n",
       "  </thead>\n",
       "  <tbody>\n",
       "    <tr>\n",
       "      <th>0</th>\n",
       "      <td>1</td>\n",
       "      <td>child astronomical body Sloan Great Wall child...</td>\n",
       "      <td>Universe</td>\n",
       "      <td>1.0</td>\n",
       "      <td>Our Universe The Universe The Cosmos cosmos</td>\n",
       "    </tr>\n",
       "    <tr>\n",
       "      <th>1</th>\n",
       "      <td>2</td>\n",
       "      <td>creator Big Bang described by source Brockhaus...</td>\n",
       "      <td>Earth</td>\n",
       "      <td>2.0</td>\n",
       "      <td>Blue Planet Terra Mater Terra Planet Earth Tel...</td>\n",
       "    </tr>\n",
       "    <tr>\n",
       "      <th>2</th>\n",
       "      <td>3</td>\n",
       "      <td>described by source Brockhaus and Efron Encycl...</td>\n",
       "      <td>Life</td>\n",
       "      <td>3.0</td>\n",
       "      <td>biota</td>\n",
       "    </tr>\n",
       "    <tr>\n",
       "      <th>3</th>\n",
       "      <td>4</td>\n",
       "      <td>described by source Brockhaus and Efron Encycl...</td>\n",
       "      <td>Death</td>\n",
       "      <td>4.0</td>\n",
       "      <td>bereft of life perish oblivion mortis fallen m...</td>\n",
       "    </tr>\n",
       "    <tr>\n",
       "      <th>4</th>\n",
       "      <td>5</td>\n",
       "      <td>described by source Brockhaus and Efron Encycl...</td>\n",
       "      <td>Human</td>\n",
       "      <td>5.0</td>\n",
       "      <td>human being humankind people homosapiens person</td>\n",
       "    </tr>\n",
       "    <tr>\n",
       "      <th>...</th>\n",
       "      <td>...</td>\n",
       "      <td>...</td>\n",
       "      <td>...</td>\n",
       "      <td>...</td>\n",
       "      <td>...</td>\n",
       "    </tr>\n",
       "    <tr>\n",
       "      <th>4885256</th>\n",
       "      <td>77042017</td>\n",
       "      <td>instance of Binary star constellation Centaurus</td>\n",
       "      <td>HD 102365</td>\n",
       "      <td>NaN</td>\n",
       "      <td></td>\n",
       "    </tr>\n",
       "    <tr>\n",
       "      <th>4885257</th>\n",
       "      <td>77043280</td>\n",
       "      <td>instance of Human member of sports team Ranger...</td>\n",
       "      <td>Charlie Johnstone</td>\n",
       "      <td>NaN</td>\n",
       "      <td></td>\n",
       "    </tr>\n",
       "    <tr>\n",
       "      <th>4885258</th>\n",
       "      <td>77231860</td>\n",
       "      <td>instance of Human instrument Saxophone family ...</td>\n",
       "      <td>Aldo Rossi (musician)</td>\n",
       "      <td>NaN</td>\n",
       "      <td></td>\n",
       "    </tr>\n",
       "    <tr>\n",
       "      <th>4885259</th>\n",
       "      <td>77240068</td>\n",
       "      <td>country United States located in the administr...</td>\n",
       "      <td>Ebenezer Baptist Church</td>\n",
       "      <td>NaN</td>\n",
       "      <td></td>\n",
       "    </tr>\n",
       "    <tr>\n",
       "      <th>4885260</th>\n",
       "      <td>77242291</td>\n",
       "      <td>country United Kingdom located in the administ...</td>\n",
       "      <td>New Court</td>\n",
       "      <td>NaN</td>\n",
       "      <td></td>\n",
       "    </tr>\n",
       "  </tbody>\n",
       "</table>\n",
       "<p>4885261 rows × 5 columns</p>\n",
       "</div>"
      ],
      "text/plain": [
       "         source_item_id                                        information  \\\n",
       "0                     1  child astronomical body Sloan Great Wall child...   \n",
       "1                     2  creator Big Bang described by source Brockhaus...   \n",
       "2                     3  described by source Brockhaus and Efron Encycl...   \n",
       "3                     4  described by source Brockhaus and Efron Encycl...   \n",
       "4                     5  described by source Brockhaus and Efron Encycl...   \n",
       "...                 ...                                                ...   \n",
       "4885256        77042017    instance of Binary star constellation Centaurus   \n",
       "4885257        77043280  instance of Human member of sports team Ranger...   \n",
       "4885258        77231860  instance of Human instrument Saxophone family ...   \n",
       "4885259        77240068  country United States located in the administr...   \n",
       "4885260        77242291  country United Kingdom located in the administ...   \n",
       "\n",
       "               source_item_title  item_id  \\\n",
       "0                       Universe      1.0   \n",
       "1                          Earth      2.0   \n",
       "2                           Life      3.0   \n",
       "3                          Death      4.0   \n",
       "4                          Human      5.0   \n",
       "...                          ...      ...   \n",
       "4885256                HD 102365      NaN   \n",
       "4885257        Charlie Johnstone      NaN   \n",
       "4885258    Aldo Rossi (musician)      NaN   \n",
       "4885259  Ebenezer Baptist Church      NaN   \n",
       "4885260                New Court      NaN   \n",
       "\n",
       "                                                  en_alias  \n",
       "0              Our Universe The Universe The Cosmos cosmos  \n",
       "1        Blue Planet Terra Mater Terra Planet Earth Tel...  \n",
       "2                                                    biota  \n",
       "3        bereft of life perish oblivion mortis fallen m...  \n",
       "4          human being humankind people homosapiens person  \n",
       "...                                                    ...  \n",
       "4885256                                                     \n",
       "4885257                                                     \n",
       "4885258                                                     \n",
       "4885259                                                     \n",
       "4885260                                                     \n",
       "\n",
       "[4885261 rows x 5 columns]"
      ]
     },
     "execution_count": 8,
     "metadata": {},
     "output_type": "execute_result"
    }
   ],
   "source": [
    "statements_grouped.en_alias.fillna('', inplace=True)\n",
    "display(statements_grouped.en_alias.isna().sum(), statements_grouped.source_item_title.isna().sum())\n",
    "\n",
    "statements_grouped"
   ]
  },
  {
   "cell_type": "code",
   "execution_count": 9,
   "metadata": {},
   "outputs": [],
   "source": [
    "statements_grouped['source_item_title'] = statements_grouped['source_item_title'] + ' ' + statements_grouped['en_alias']"
   ]
  },
  {
   "cell_type": "code",
   "execution_count": 10,
   "metadata": {},
   "outputs": [
    {
     "data": {
      "text/plain": [
       "(4885261, 5)"
      ]
     },
     "metadata": {},
     "output_type": "display_data"
    },
    {
     "data": {
      "text/html": [
       "<div>\n",
       "<style scoped>\n",
       "    .dataframe tbody tr th:only-of-type {\n",
       "        vertical-align: middle;\n",
       "    }\n",
       "\n",
       "    .dataframe tbody tr th {\n",
       "        vertical-align: top;\n",
       "    }\n",
       "\n",
       "    .dataframe thead th {\n",
       "        text-align: right;\n",
       "    }\n",
       "</style>\n",
       "<table border=\"1\" class=\"dataframe\">\n",
       "  <thead>\n",
       "    <tr style=\"text-align: right;\">\n",
       "      <th></th>\n",
       "      <th>source_item_id</th>\n",
       "      <th>information</th>\n",
       "      <th>source_item_title</th>\n",
       "      <th>item_id</th>\n",
       "      <th>en_alias</th>\n",
       "    </tr>\n",
       "  </thead>\n",
       "  <tbody>\n",
       "    <tr>\n",
       "      <th>0</th>\n",
       "      <td>1</td>\n",
       "      <td>child astronomical body Sloan Great Wall child...</td>\n",
       "      <td>Universe Our Universe The Universe The Cosmos ...</td>\n",
       "      <td>1.0</td>\n",
       "      <td>Our Universe The Universe The Cosmos cosmos</td>\n",
       "    </tr>\n",
       "    <tr>\n",
       "      <th>1</th>\n",
       "      <td>2</td>\n",
       "      <td>creator Big Bang described by source Brockhaus...</td>\n",
       "      <td>Earth Blue Planet Terra Mater Terra Planet Ear...</td>\n",
       "      <td>2.0</td>\n",
       "      <td>Blue Planet Terra Mater Terra Planet Earth Tel...</td>\n",
       "    </tr>\n",
       "    <tr>\n",
       "      <th>2</th>\n",
       "      <td>3</td>\n",
       "      <td>described by source Brockhaus and Efron Encycl...</td>\n",
       "      <td>Life biota</td>\n",
       "      <td>3.0</td>\n",
       "      <td>biota</td>\n",
       "    </tr>\n",
       "    <tr>\n",
       "      <th>3</th>\n",
       "      <td>4</td>\n",
       "      <td>described by source Brockhaus and Efron Encycl...</td>\n",
       "      <td>Death bereft of life perish oblivion mortis fa...</td>\n",
       "      <td>4.0</td>\n",
       "      <td>bereft of life perish oblivion mortis fallen m...</td>\n",
       "    </tr>\n",
       "    <tr>\n",
       "      <th>4</th>\n",
       "      <td>5</td>\n",
       "      <td>described by source Brockhaus and Efron Encycl...</td>\n",
       "      <td>Human human being humankind people homosapiens...</td>\n",
       "      <td>5.0</td>\n",
       "      <td>human being humankind people homosapiens person</td>\n",
       "    </tr>\n",
       "    <tr>\n",
       "      <th>...</th>\n",
       "      <td>...</td>\n",
       "      <td>...</td>\n",
       "      <td>...</td>\n",
       "      <td>...</td>\n",
       "      <td>...</td>\n",
       "    </tr>\n",
       "    <tr>\n",
       "      <th>4885256</th>\n",
       "      <td>77042017</td>\n",
       "      <td>instance of Binary star constellation Centaurus</td>\n",
       "      <td>HD 102365</td>\n",
       "      <td>NaN</td>\n",
       "      <td></td>\n",
       "    </tr>\n",
       "    <tr>\n",
       "      <th>4885257</th>\n",
       "      <td>77043280</td>\n",
       "      <td>instance of Human member of sports team Ranger...</td>\n",
       "      <td>Charlie Johnstone</td>\n",
       "      <td>NaN</td>\n",
       "      <td></td>\n",
       "    </tr>\n",
       "    <tr>\n",
       "      <th>4885258</th>\n",
       "      <td>77231860</td>\n",
       "      <td>instance of Human instrument Saxophone family ...</td>\n",
       "      <td>Aldo Rossi (musician)</td>\n",
       "      <td>NaN</td>\n",
       "      <td></td>\n",
       "    </tr>\n",
       "    <tr>\n",
       "      <th>4885259</th>\n",
       "      <td>77240068</td>\n",
       "      <td>country United States located in the administr...</td>\n",
       "      <td>Ebenezer Baptist Church</td>\n",
       "      <td>NaN</td>\n",
       "      <td></td>\n",
       "    </tr>\n",
       "    <tr>\n",
       "      <th>4885260</th>\n",
       "      <td>77242291</td>\n",
       "      <td>country United Kingdom located in the administ...</td>\n",
       "      <td>New Court</td>\n",
       "      <td>NaN</td>\n",
       "      <td></td>\n",
       "    </tr>\n",
       "  </tbody>\n",
       "</table>\n",
       "<p>4885261 rows × 5 columns</p>\n",
       "</div>"
      ],
      "text/plain": [
       "         source_item_id                                        information  \\\n",
       "0                     1  child astronomical body Sloan Great Wall child...   \n",
       "1                     2  creator Big Bang described by source Brockhaus...   \n",
       "2                     3  described by source Brockhaus and Efron Encycl...   \n",
       "3                     4  described by source Brockhaus and Efron Encycl...   \n",
       "4                     5  described by source Brockhaus and Efron Encycl...   \n",
       "...                 ...                                                ...   \n",
       "4885256        77042017    instance of Binary star constellation Centaurus   \n",
       "4885257        77043280  instance of Human member of sports team Ranger...   \n",
       "4885258        77231860  instance of Human instrument Saxophone family ...   \n",
       "4885259        77240068  country United States located in the administr...   \n",
       "4885260        77242291  country United Kingdom located in the administ...   \n",
       "\n",
       "                                         source_item_title  item_id  \\\n",
       "0        Universe Our Universe The Universe The Cosmos ...      1.0   \n",
       "1        Earth Blue Planet Terra Mater Terra Planet Ear...      2.0   \n",
       "2                                               Life biota      3.0   \n",
       "3        Death bereft of life perish oblivion mortis fa...      4.0   \n",
       "4        Human human being humankind people homosapiens...      5.0   \n",
       "...                                                    ...      ...   \n",
       "4885256                                         HD 102365       NaN   \n",
       "4885257                                 Charlie Johnstone       NaN   \n",
       "4885258                             Aldo Rossi (musician)       NaN   \n",
       "4885259                           Ebenezer Baptist Church       NaN   \n",
       "4885260                                         New Court       NaN   \n",
       "\n",
       "                                                  en_alias  \n",
       "0              Our Universe The Universe The Cosmos cosmos  \n",
       "1        Blue Planet Terra Mater Terra Planet Earth Tel...  \n",
       "2                                                    biota  \n",
       "3        bereft of life perish oblivion mortis fallen m...  \n",
       "4          human being humankind people homosapiens person  \n",
       "...                                                    ...  \n",
       "4885256                                                     \n",
       "4885257                                                     \n",
       "4885258                                                     \n",
       "4885259                                                     \n",
       "4885260                                                     \n",
       "\n",
       "[4885261 rows x 5 columns]"
      ]
     },
     "execution_count": 10,
     "metadata": {},
     "output_type": "execute_result"
    }
   ],
   "source": [
    "statements_grouped.reset_index(inplace=True, drop=True)\n",
    "\n",
    "display(statements_grouped.shape)\n",
    "\n",
    "statements_grouped"
   ]
  },
  {
   "cell_type": "code",
   "execution_count": 11,
   "metadata": {},
   "outputs": [],
   "source": [
    "# create a dictionary of source_item_id to index\n",
    "item_id_to_index = dict(zip(statements_grouped['source_item_id'], statements_grouped.index))\n",
    "\n",
    "import pickle\n",
    "with open('./data/wiki_lite/statement_bge_features_item_id_to_index.pickle', 'wb') as handle:\n",
    "    pickle.dump(item_id_to_index, handle, protocol=pickle.HIGHEST_PROTOCOL)"
   ]
  },
  {
   "cell_type": "code",
   "execution_count": 12,
   "metadata": {},
   "outputs": [],
   "source": [
    "info_list = statements_grouped['information'].tolist()\n",
    "\n",
    "title_list = statements_grouped['source_item_title'].tolist()\n",
    "\n",
    "assert len(info_list) == len(title_list)\n",
    "\n",
    "del aliases\n",
    "del properties\n",
    "\n",
    "from sentence_transformers import SentenceTransformer\n",
    "\n",
    "model = SentenceTransformer('BAAI/bge-base-en', device='cuda')"
   ]
  },
  {
   "cell_type": "code",
   "execution_count": 13,
   "metadata": {},
   "outputs": [
    {
     "data": {
      "application/vnd.jupyter.widget-view+json": {
       "model_id": "a92bd9b07356418c81d8b3a97b00ea1f",
       "version_major": 2,
       "version_minor": 0
      },
      "text/plain": [
       "Batches:   0%|          | 0/152665 [00:00<?, ?it/s]"
      ]
     },
     "metadata": {},
     "output_type": "display_data"
    }
   ],
   "source": [
    "info_embeddings = model.encode(info_list, show_progress_bar=True)"
   ]
  },
  {
   "cell_type": "code",
   "execution_count": 14,
   "metadata": {},
   "outputs": [],
   "source": [
    "# info embeddings is a numpy array of shape (n, 768) where n is the number of items\n",
    "# save info embeddings to disk\n",
    "import numpy as np\n",
    "np.save('./bge_info_embeds.npy', info_embeddings)"
   ]
  },
  {
   "cell_type": "code",
   "execution_count": 15,
   "metadata": {},
   "outputs": [],
   "source": [
    "del info_embeddings\n",
    "del info_list"
   ]
  },
  {
   "cell_type": "code",
   "execution_count": 16,
   "metadata": {},
   "outputs": [
    {
     "data": {
      "text/plain": [
       "0"
      ]
     },
     "execution_count": 16,
     "metadata": {},
     "output_type": "execute_result"
    }
   ],
   "source": [
    "import torch\n",
    "# clear GPU memory\n",
    "torch.cuda.empty_cache()\n",
    "import gc\n",
    "gc.collect()"
   ]
  },
  {
   "cell_type": "code",
   "execution_count": 17,
   "metadata": {},
   "outputs": [
    {
     "data": {
      "application/vnd.jupyter.widget-view+json": {
       "model_id": "deb09c485c344e09ac566d6f3c17cd3e",
       "version_major": 2,
       "version_minor": 0
      },
      "text/plain": [
       "Batches:   0%|          | 0/152665 [00:00<?, ?it/s]"
      ]
     },
     "metadata": {},
     "output_type": "display_data"
    }
   ],
   "source": [
    "title_embeddings = model.encode(title_list, show_progress_bar=True)"
   ]
  },
  {
   "cell_type": "code",
   "execution_count": 18,
   "metadata": {},
   "outputs": [],
   "source": [
    "np.save('./bge_title_embeds.npy',title_embeddings)"
   ]
  },
  {
   "cell_type": "code",
   "execution_count": 19,
   "metadata": {},
   "outputs": [
    {
     "data": {
      "text/plain": [
       "0"
      ]
     },
     "execution_count": 19,
     "metadata": {},
     "output_type": "execute_result"
    }
   ],
   "source": [
    "del title_embeddings\n",
    "\n",
    "torch.cuda.empty_cache()\n",
    "gc.collect()"
   ]
  },
  {
   "cell_type": "code",
   "execution_count": 20,
   "metadata": {},
   "outputs": [],
   "source": [
    "wiki_items['en_description'] = wiki_items['en_description'].fillna('')\n",
    "wiki_items['wikipedia_title'] = wiki_items['wikipedia_title'].fillna('')\n",
    "# join wiki_items and aliases_grouped on item_id\n",
    "wiki_items = wiki_items.merge(aliases_grouped, on='item_id', how='left')\n",
    "wiki_items['en_alias'] = wiki_items['en_alias'].fillna('')\n",
    "wiki_items['wikipedia_title'] = wiki_items['wikipedia_title'] + ' ' + wiki_items['en_alias']\n",
    "# only keep those wiki_items that are NOT in statements_grouped\n",
    "wiki_items = wiki_items[~wiki_items['item_id'].isin(statements_grouped['source_item_id'])]\n",
    "wiki_items.reset_index(inplace=True, drop=True)\n",
    "\n",
    "# create a dictionary mapping item_id to row index\n",
    "item_id_to_index = dict(zip(wiki_items['item_id'], wiki_items.index))\n",
    "import pickle\n",
    "with open('./data/wiki_lite/wiki_features_bge_item_id_to_index.pickle', 'wb') as handle:\n",
    "    pickle.dump(item_id_to_index, handle, protocol=pickle.HIGHEST_PROTOCOL)"
   ]
  },
  {
   "cell_type": "code",
   "execution_count": 21,
   "metadata": {},
   "outputs": [],
   "source": [
    "del aliases_grouped\n",
    "del statements\n",
    "del statements_grouped\n",
    "\n",
    "\n",
    "description_list = wiki_items['en_description'].tolist()\n",
    "\n",
    "title_list = wiki_items['wikipedia_title'].tolist()\n",
    "\n",
    "assert len(description_list) == len(title_list)\n"
   ]
  },
  {
   "cell_type": "code",
   "execution_count": 23,
   "metadata": {},
   "outputs": [
    {
     "data": {
      "application/vnd.jupyter.widget-view+json": {
       "model_id": "73d32cecb8744a8cb493a77dc0c684c3",
       "version_major": 2,
       "version_minor": 0
      },
      "text/plain": [
       "Batches:   0%|          | 0/10343 [00:00<?, ?it/s]"
      ]
     },
     "metadata": {},
     "output_type": "display_data"
    },
    {
     "data": {
      "text/plain": [
       "0"
      ]
     },
     "execution_count": 23,
     "metadata": {},
     "output_type": "execute_result"
    }
   ],
   "source": [
    "wiki_title_embeddings = model.encode(title_list, show_progress_bar=True)\n",
    "\n",
    "np.save('./bge_wiki_title_embeds.npy', wiki_title_embeddings)\n",
    "\n",
    "del wiki_title_embeddings\n",
    "\n",
    "torch.cuda.empty_cache()\n",
    "gc.collect()"
   ]
  },
  {
   "cell_type": "code",
   "execution_count": 25,
   "metadata": {},
   "outputs": [
    {
     "data": {
      "application/vnd.jupyter.widget-view+json": {
       "model_id": "6a6fe92ecec14b2fb98e3e21d643e0a1",
       "version_major": 2,
       "version_minor": 0
      },
      "text/plain": [
       "Batches:   0%|          | 0/10343 [00:00<?, ?it/s]"
      ]
     },
     "metadata": {},
     "output_type": "display_data"
    },
    {
     "data": {
      "text/plain": [
       "0"
      ]
     },
     "execution_count": 25,
     "metadata": {},
     "output_type": "execute_result"
    }
   ],
   "source": [
    "description_embeddings = model.encode(description_list, show_progress_bar=True)\n",
    "\n",
    "np.save('./bge_description_embeds.npy', description_embeddings)\n",
    "\n",
    "del description_embeddings\n",
    "\n",
    "torch.cuda.empty_cache()\n",
    "gc.collect()"
   ]
  },
  {
   "cell_type": "markdown",
   "metadata": {},
   "source": [
    "## the rest"
   ]
  },
  {
   "cell_type": "code",
   "execution_count": 1,
   "metadata": {},
   "outputs": [
    {
     "data": {
      "text/plain": [
       "tensor([[-0.0488, -0.0118,  0.0525,  ..., -0.0292,  0.0058,  0.0687],\n",
       "        [ 0.0305, -0.0525,  0.0397,  ..., -0.0116, -0.0489,  0.0142],\n",
       "        [ 0.0094, -0.0168, -0.0829,  ...,  0.0381,  0.1065, -0.0130],\n",
       "        ...,\n",
       "        [-0.0413,  0.0022, -0.0617,  ..., -0.0125, -0.0042, -0.0875],\n",
       "        [ 0.0514,  0.0171, -0.0427,  ..., -0.0174,  0.0310, -0.0132],\n",
       "        [ 0.1285, -0.0306, -0.0131,  ..., -0.0252,  0.0280, -0.0690]])"
      ]
     },
     "execution_count": 1,
     "metadata": {},
     "output_type": "execute_result"
    }
   ],
   "source": [
    "import torch\n",
    "\n",
    "info_embeddings = torch.load('./info_embeddings.pt', map_location=torch.device('cpu'))\n",
    "\n",
    "info_embeddings"
   ]
  },
  {
   "cell_type": "code",
   "execution_count": 2,
   "metadata": {},
   "outputs": [
    {
     "data": {
      "text/plain": [
       "tensor([[ 3.9014e-02,  9.5367e-03,  1.0904e-02,  ..., -2.3632e-02,\n",
       "          1.2907e-02,  2.0615e-02],\n",
       "        [-6.0217e-02, -3.4879e-02,  8.7372e-02,  ..., -3.3114e-02,\n",
       "         -6.0199e-02, -1.0293e-02],\n",
       "        [-2.5279e-02,  6.6466e-02, -6.4570e-02,  ...,  3.3458e-03,\n",
       "          7.2263e-02,  9.9293e-05],\n",
       "        ...,\n",
       "        [-3.2201e-02,  3.0584e-02, -3.4390e-02,  ..., -1.0032e-01,\n",
       "          8.4057e-03, -9.9466e-02],\n",
       "        [-9.2137e-03,  5.4107e-02, -4.0712e-02,  ..., -2.4230e-02,\n",
       "         -8.2808e-03, -8.6116e-02],\n",
       "        [-2.8107e-02,  2.5851e-02, -7.0126e-03,  ..., -7.7793e-03,\n",
       "          8.9322e-02,  4.5101e-02]])"
      ]
     },
     "execution_count": 2,
     "metadata": {},
     "output_type": "execute_result"
    }
   ],
   "source": [
    "title_embeddings = torch.load('./title_embeddings.pt', map_location=torch.device('cpu'))\n",
    "\n",
    "title_embeddings"
   ]
  },
  {
   "cell_type": "code",
   "execution_count": 3,
   "metadata": {},
   "outputs": [
    {
     "data": {
      "text/plain": [
       "(torch.Size([4885261, 384]), torch.Size([4885261, 384]))"
      ]
     },
     "execution_count": 3,
     "metadata": {},
     "output_type": "execute_result"
    }
   ],
   "source": [
    "info_embeddings.shape , title_embeddings.shape"
   ]
  },
  {
   "cell_type": "code",
   "execution_count": 4,
   "metadata": {},
   "outputs": [
    {
     "data": {
      "text/plain": [
       "tensor([[-0.0049, -0.0011,  0.0317,  ..., -0.0264,  0.0094,  0.0446],\n",
       "        [-0.0149, -0.0437,  0.0635,  ..., -0.0223, -0.0546,  0.0020],\n",
       "        [-0.0080,  0.0248, -0.0737,  ...,  0.0207,  0.0894, -0.0065],\n",
       "        ...,\n",
       "        [-0.0367,  0.0164, -0.0481,  ..., -0.0564,  0.0021, -0.0935],\n",
       "        [ 0.0211,  0.0356, -0.0417,  ..., -0.0208,  0.0114, -0.0496],\n",
       "        [ 0.0502, -0.0024, -0.0100,  ..., -0.0165,  0.0587, -0.0119]])"
      ]
     },
     "execution_count": 4,
     "metadata": {},
     "output_type": "execute_result"
    }
   ],
   "source": [
    "features = (info_embeddings + title_embeddings) / 2 # type: ignore\n",
    "\n",
    "features"
   ]
  },
  {
   "cell_type": "code",
   "execution_count": 5,
   "metadata": {},
   "outputs": [],
   "source": [
    "import torch\n",
    "\n",
    "torch.save(features, './data/wiki_lite/statement_features.pt')"
   ]
  },
  {
   "cell_type": "code",
   "execution_count": null,
   "metadata": {},
   "outputs": [],
   "source": []
  },
  {
   "cell_type": "markdown",
   "metadata": {},
   "source": [
    "## Loading bge embeds"
   ]
  },
  {
   "cell_type": "code",
   "execution_count": 26,
   "metadata": {},
   "outputs": [
    {
     "data": {
      "text/plain": [
       "((330975, 768), (330975, 768))"
      ]
     },
     "execution_count": 26,
     "metadata": {},
     "output_type": "execute_result"
    }
   ],
   "source": [
    "bge_wiki_title_embeds = np.load('./bge_wiki_title_embeds.npy')\n",
    "bge_description_embeds = np.load('./bge_description_embeds.npy')\n",
    "\n",
    "bge_wiki_title_embeds.shape, bge_description_embeds.shape"
   ]
  },
  {
   "cell_type": "code",
   "execution_count": 27,
   "metadata": {},
   "outputs": [
    {
     "data": {
      "text/plain": [
       "(330975, 768)"
      ]
     },
     "execution_count": 27,
     "metadata": {},
     "output_type": "execute_result"
    }
   ],
   "source": [
    "bge_wiki_features = (bge_wiki_title_embeds + bge_description_embeds) / 2\n",
    "\n",
    "bge_wiki_features.shape"
   ]
  },
  {
   "cell_type": "code",
   "execution_count": 28,
   "metadata": {},
   "outputs": [],
   "source": [
    "np.save('./data/wiki_lite/bge_wiki_features.npy', bge_wiki_features)"
   ]
  },
  {
   "cell_type": "code",
   "execution_count": 2,
   "metadata": {},
   "outputs": [],
   "source": [
    "import numpy as np\n",
    "# average files under ./bge_info_embeds.npy and ./bge_title_embeds.npy\n",
    "bge_info_embeds = np.load('./bge_info_embeds.npy')\n",
    "bge_title_embeds = np.load('./bge_title_embeds.npy')"
   ]
  },
  {
   "cell_type": "code",
   "execution_count": 3,
   "metadata": {},
   "outputs": [],
   "source": [
    "bge_info_embeds = (bge_info_embeds + bge_title_embeds) / 2"
   ]
  },
  {
   "cell_type": "code",
   "execution_count": 4,
   "metadata": {},
   "outputs": [],
   "source": [
    "np.save('./bge_statement_features.npy', bge_info_embeds)"
   ]
  },
  {
   "cell_type": "code",
   "execution_count": null,
   "metadata": {},
   "outputs": [],
   "source": []
  }
 ],
 "metadata": {
  "kernelspec": {
   "display_name": ".venv",
   "language": "python",
   "name": "python3"
  },
  "language_info": {
   "codemirror_mode": {
    "name": "ipython",
    "version": 3
   },
   "file_extension": ".py",
   "mimetype": "text/x-python",
   "name": "python",
   "nbconvert_exporter": "python",
   "pygments_lexer": "ipython3",
   "version": "3.9.13"
  }
 },
 "nbformat": 4,
 "nbformat_minor": 2
}
