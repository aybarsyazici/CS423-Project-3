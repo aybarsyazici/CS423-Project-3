{
 "cells": [
  {
   "cell_type": "code",
   "execution_count": 1,
   "metadata": {},
   "outputs": [
    {
     "name": "stdout",
     "output_type": "stream",
     "text": [
      "\u001b[32m[PyTorch-Utils]\u001b[0m: Loading anchor candidate data...\n",
      "\u001b[32m[PyTorch-Utils]\u001b[0m: Loading wikipedia title embedings...\n",
      "\u001b[32m[PyTorch-Utils]\u001b[0m: Loading KB explanations...\n",
      "\u001b[32m[PyTorch-Utils]\u001b[0m: Loading wikipedia items...\n"
     ]
    }
   ],
   "source": [
    "import pandas as pd\n",
    "from tqdm import tqdm\n",
    "import torch\n",
    "import pytorch_utils"
   ]
  },
  {
   "cell_type": "code",
   "execution_count": 2,
   "metadata": {},
   "outputs": [
    {
     "name": "stdout",
     "output_type": "stream",
     "text": [
      "\u001b[32m[PyTorch-Utils]\u001b[0m: Loading test set...\n",
      "\u001b[32m[PyTorch-Utils]\u001b[0m: Loading test_context_text_150.pkl from data/pkl...\n",
      "\u001b[32m[PyTorch-Utils]\u001b[0m: Now generating entity embeddings...\n"
     ]
    },
    {
     "data": {
      "application/vnd.jupyter.widget-view+json": {
       "model_id": "0764fb5bab3a4ef29b3c884261d1aa19",
       "version_major": 2,
       "version_minor": 0
      },
      "text/plain": [
       "Batches:   0%|          | 0/287 [00:00<?, ?it/s]"
      ]
     },
     "metadata": {},
     "output_type": "display_data"
    },
    {
     "name": "stdout",
     "output_type": "stream",
     "text": [
      "Entity Length: 9166\n",
      "Entity shape: torch.Size([9166, 384])\n"
     ]
    },
    {
     "data": {
      "application/vnd.jupyter.widget-view+json": {
       "model_id": "e86f40dcbb044457a003ef039236cf27",
       "version_major": 2,
       "version_minor": 0
      },
      "text/plain": [
       "Batches:   0%|          | 0/287 [00:00<?, ?it/s]"
      ]
     },
     "metadata": {},
     "output_type": "display_data"
    },
    {
     "name": "stdout",
     "output_type": "stream",
     "text": [
      "\u001b[32m[PyTorch-Utils]\u001b[0m: Now computing syntax candidates for each entity...\n",
      "\u001b[32m[PyTorch-Utils]\u001b[0m: Now computing OLD syntax candidates for each entity...\n",
      "\u001b[32m[PyTorch-Utils]\u001b[0m: Now generating inputs and labels...\n"
     ]
    }
   ],
   "source": [
    "test_dataset = pytorch_utils.EntityDataset(train=False, device='cuda')"
   ]
  },
  {
   "cell_type": "code",
   "execution_count": 3,
   "metadata": {},
   "outputs": [],
   "source": [
    "validation_df_joined = pd.read_csv('data/validation_prepped_with_item_id.csv')"
   ]
  },
  {
   "cell_type": "code",
   "execution_count": 4,
   "metadata": {},
   "outputs": [
    {
     "name": "stdout",
     "output_type": "stream",
     "text": [
      "In count: 8247\n",
      "Out count: 919\n",
      "In %: 0.8997381627754746\n"
     ]
    }
   ],
   "source": [
    "in_count = 0\n",
    "out_count = 0\n",
    "\n",
    "for mention, candidates in test_dataset.entity_df_to_candidates.items():\n",
    "    ground_truth = validation_df_joined.iloc[mention]['item_id']\n",
    "    # does item_id exist in candidates?\n",
    "    if ground_truth in candidates:\n",
    "        in_count += 1\n",
    "    else:\n",
    "        out_count += 1\n",
    "\n",
    "print(f'In count: {in_count}')\n",
    "print(f'Out count: {out_count}')\n",
    "print(f'In %: {in_count / (in_count + out_count)}')"
   ]
  }
 ],
 "metadata": {
  "kernelspec": {
   "display_name": ".venv",
   "language": "python",
   "name": "python3"
  },
  "language_info": {
   "codemirror_mode": {
    "name": "ipython",
    "version": 3
   },
   "file_extension": ".py",
   "mimetype": "text/x-python",
   "name": "python",
   "nbconvert_exporter": "python",
   "pygments_lexer": "ipython3",
   "version": "3.9.13"
  }
 },
 "nbformat": 4,
 "nbformat_minor": 2
}
